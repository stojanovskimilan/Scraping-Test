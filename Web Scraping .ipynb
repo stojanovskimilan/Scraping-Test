{
 "cells": [
  {
   "cell_type": "code",
   "execution_count": 2,
   "id": "01eafd28",
   "metadata": {},
   "outputs": [],
   "source": [
    "import pandas as pd\n",
    "from scripts.scraper import *"
   ]
  },
  {
   "cell_type": "code",
   "execution_count": 8,
   "id": "2359e674",
   "metadata": {},
   "outputs": [],
   "source": [
    "titles, prices, ratings_list, product_urls = ([] for i in range(4))\n",
    "i = 0\n",
    "for url in URLS.values():\n",
    "    if i == 0:\n",
    "        titles, prices, ratings_list, product_urls = scrape_data(url)\n",
    "    else:\n",
    "        titles_1, prices_1, ratings_list_1, product_urls_1= scrape_data(url)\n",
    "        titles.extend(titles_1)\n",
    "        prices.extend(prices_1)\n",
    "        ratings_list.extend(ratings_list_1)\n",
    "        product_urls.extend(product_urls_1)\n",
    "        \n",
    "    i += 1\n",
    "        "
   ]
  },
  {
   "cell_type": "code",
   "execution_count": 9,
   "id": "20bd3f43",
   "metadata": {},
   "outputs": [],
   "source": [
    "sellers = get_sellers(product_urls)"
   ]
  },
  {
   "cell_type": "code",
   "execution_count": 17,
   "id": "97ecaf7d",
   "metadata": {},
   "outputs": [],
   "source": [
    "newegg_data = {\n",
    "    'Title' : titles,\n",
    "    'Price' : prices,\n",
    "    'Rating': ratings_list,\n",
    "    'Seller': sellers,\n",
    "    'URLs' : product_urls\n",
    "}"
   ]
  },
  {
   "cell_type": "code",
   "execution_count": 18,
   "id": "176b8824",
   "metadata": {},
   "outputs": [],
   "source": [
    "data = pd.DataFrame(newegg_data)"
   ]
  },
  {
   "cell_type": "code",
   "execution_count": 25,
   "id": "d823752d",
   "metadata": {},
   "outputs": [
    {
     "ename": "AttributeError",
     "evalue": "'NoneType' object has no attribute 'find'",
     "output_type": "error",
     "traceback": [
      "\u001b[1;31m---------------------------------------------------------------------------\u001b[0m",
      "\u001b[1;31mAttributeError\u001b[0m                            Traceback (most recent call last)",
      "Input \u001b[1;32mIn [25]\u001b[0m, in \u001b[0;36m<cell line: 2>\u001b[1;34m()\u001b[0m\n\u001b[0;32m      1\u001b[0m \u001b[38;5;66;03m# data['Description'] = data['URLs'].apply(lambda x: get_description(x))\u001b[39;00m\n\u001b[1;32m----> 2\u001b[0m \u001b[43mget_description\u001b[49m\u001b[43m(\u001b[49m\u001b[38;5;124;43m'\u001b[39;49m\u001b[38;5;124;43mhttps://www.newegg.com/amd-ryzen-5-7600x-ryzen-5-7000-series/p/N82E16819113770?Item=N82E16819113770\u001b[39;49m\u001b[38;5;124;43m'\u001b[39;49m\u001b[43m)\u001b[49m\n",
      "File \u001b[1;32m~\\Desktop\\Scraping Test - Milan Stojanovski\\scripts\\scraper.py:65\u001b[0m, in \u001b[0;36mget_description\u001b[1;34m(product_url)\u001b[0m\n\u001b[0;32m     63\u001b[0m soup \u001b[38;5;241m=\u001b[39m BeautifulSoup(html,\u001b[38;5;124m'\u001b[39m\u001b[38;5;124mhtml.parser\u001b[39m\u001b[38;5;124m'\u001b[39m)\n\u001b[0;32m     64\u001b[0m div1 \u001b[38;5;241m=\u001b[39m soup\u001b[38;5;241m.\u001b[39mfind(\u001b[38;5;124m'\u001b[39m\u001b[38;5;124mdiv\u001b[39m\u001b[38;5;124m'\u001b[39m, {\u001b[38;5;124m'\u001b[39m\u001b[38;5;124mclass\u001b[39m\u001b[38;5;124m'\u001b[39m: \u001b[38;5;124m'\u001b[39m\u001b[38;5;124mproduct-bullets\u001b[39m\u001b[38;5;124m'\u001b[39m})\n\u001b[1;32m---> 65\u001b[0m ul \u001b[38;5;241m=\u001b[39m \u001b[43mdiv1\u001b[49m\u001b[38;5;241;43m.\u001b[39;49m\u001b[43mfind\u001b[49m(\u001b[38;5;124m'\u001b[39m\u001b[38;5;124mul\u001b[39m\u001b[38;5;124m'\u001b[39m)\n\u001b[0;32m     66\u001b[0m a \u001b[38;5;241m=\u001b[39m []\n\u001b[0;32m     67\u001b[0m \u001b[38;5;28;01mif\u001b[39;00m ul \u001b[38;5;129;01mis\u001b[39;00m \u001b[38;5;129;01mnot\u001b[39;00m \u001b[38;5;28;01mNone\u001b[39;00m:\n",
      "\u001b[1;31mAttributeError\u001b[0m: 'NoneType' object has no attribute 'find'"
     ]
    }
   ],
   "source": [
    "# data['Description'] = data['URLs'].apply(lambda x: get_description(x))\n",
    "get_description('https://www.newegg.com/amd-ryzen-5-7600x-ryzen-5-7000-series/p/N82E16819113770?Item=N82E16819113770')"
   ]
  },
  {
   "cell_type": "code",
   "execution_count": 3,
   "id": "477269fa",
   "metadata": {},
   "outputs": [
    {
     "ename": "AttributeError",
     "evalue": "'NoneType' object has no attribute 'find'",
     "output_type": "error",
     "traceback": [
      "\u001b[1;31m---------------------------------------------------------------------------\u001b[0m",
      "\u001b[1;31mAttributeError\u001b[0m                            Traceback (most recent call last)",
      "Input \u001b[1;32mIn [3]\u001b[0m, in \u001b[0;36m<cell line: 4>\u001b[1;34m()\u001b[0m\n\u001b[0;32m      2\u001b[0m soup \u001b[38;5;241m=\u001b[39m BeautifulSoup(html,\u001b[38;5;124m'\u001b[39m\u001b[38;5;124mhtml.parser\u001b[39m\u001b[38;5;124m'\u001b[39m)\n\u001b[0;32m      3\u001b[0m div1 \u001b[38;5;241m=\u001b[39m soup\u001b[38;5;241m.\u001b[39mfind(\u001b[38;5;124m'\u001b[39m\u001b[38;5;124mdiv\u001b[39m\u001b[38;5;124m'\u001b[39m, {\u001b[38;5;124m'\u001b[39m\u001b[38;5;124mclass\u001b[39m\u001b[38;5;124m'\u001b[39m: \u001b[38;5;124m'\u001b[39m\u001b[38;5;124mproduct-bullets\u001b[39m\u001b[38;5;124m'\u001b[39m})\n\u001b[1;32m----> 4\u001b[0m ul \u001b[38;5;241m=\u001b[39m \u001b[43mdiv1\u001b[49m\u001b[38;5;241;43m.\u001b[39;49m\u001b[43mfind\u001b[49m(\u001b[38;5;124m'\u001b[39m\u001b[38;5;124mul\u001b[39m\u001b[38;5;124m'\u001b[39m)\n\u001b[0;32m      6\u001b[0m \u001b[38;5;28;01mif\u001b[39;00m ul \u001b[38;5;129;01mis\u001b[39;00m \u001b[38;5;129;01mnot\u001b[39;00m \u001b[38;5;28;01mNone\u001b[39;00m:\n\u001b[0;32m      7\u001b[0m     \u001b[38;5;28;01mfor\u001b[39;00m e \u001b[38;5;129;01min\u001b[39;00m ul:\n",
      "\u001b[1;31mAttributeError\u001b[0m: 'NoneType' object has no attribute 'find'"
     ]
    }
   ],
   "source": [
    "html = requests.get('https://www.newegg.com/amd-ryzen-5-7600x-ryzen-5-7000-series/p/N82E16819113770?Item=N82E16819113770').text\n",
    "soup = BeautifulSoup(html,'html.parser')\n",
    "div1 = soup.find('div', {'class': 'product-bullets'})\n",
    "ul = div1.find('ul')\n",
    "    \n",
    "if ul is not None:\n",
    "    for e in ul:\n",
    "        print(e)\n",
    "else:\n",
    "    print(0)\n",
    "    \n",
    "    "
   ]
  },
  {
   "cell_type": "code",
   "execution_count": 5,
   "id": "5c54c2d4",
   "metadata": {},
   "outputs": [
    {
     "data": {
      "text/plain": [
       "'<!DOCTYPE html>\\n<html lang=\"en\">\\n\\n<head>\\n    <meta charset=\"UTF-8\">\\n    <meta name=\"viewport\" content=\"width=device-width, initial-scale=1.0\">\\n    <title>Block by waf - Newegg Edge</title>\\n    <style>\\n        .text-center {\\n            text-align: center;\\n        }\\n\\n        h1 {\\n            font-size: 170px;\\n            margin-top: 20px;\\n            margin-bottom: 10px;\\n            font-weight: 100;\\n            line-height: 1.2;\\n        }\\n\\n        h3 {\\n            font-weight: 600;\\n            font-size: 16px;\\n            margin-top: 5px;\\n        }\\n        .error-desc{\\n          margin:10px;\\n          text-align:left;\\n        }\\n    </style>\\n</head>\\n\\n<body>\\n  <script src=\"https://c1.neweggimages.com/webResource/Scripts/WWW/jquery-3.5.1.min.js\"></script>\\n  <script type=\"text/javascript\" src=\"//promotions.newegg.com/template/us/js/2021/header-light.js\"></script>\\n    <div class=\"text-center animated fadeInDown\" style=\"width: 80%; margin: 0 auto; padding-top: 40px; min-height: calc(100vh - 345px)\">\\n        <h1>400</h1>\\n\\n        <h3>Block</h3>\\n\\n        <div class=\"error-desc\">\\n\\n            <p>It appears our systems have detected the abnormal request to visit Newegg.com. For more information on appropriate use of the Newegg website, please see the excerpt from Newegg.com\\'s Policy & Agreement below. If our systems do not detect any violations from your IP address within the next 24 hours, it may be unblocked. If you need faster assistance or feel youâ\\x80\\x99ve reached this page in error, please send an email to <a href=\"mailto:webmaster@newegg.com\">webmaster@newegg.com</a> with your IP address and the error code listed below.<br>\\n\\t\\t\\t\\t\\t\\t\\t</P>\\n\\t\\t\\t\\t\\t\\t\\t<p>Error Code: 4001</p>\\n\\t\\t\\t\\t\\t\\t\\t<p>Your IP: 95.180.213.100</p>\\n\\t\\t\\t\\t\\t\\t\\t<p>Reference Code: <span style=\"word-wrap: break-word;\">cc_e40a4f5fa3a9457d2a81ff0fb36e9</span></p>\\n\\t\\t\\t\\t\\t\\t\\t<p><strong>Website use</strong></p>\\n\\t\\t\\t<p>You agree to use Newegg.com website (the \"Website\") only for purposes that are permitted by this Policy & Agreement and any applicable law, regulation or generally accepted practices or guidelines in the relevant jurisdictions.  You agree that you will not access or attempt to access the Website other than through the interface that is provided by Newegg.com, unless you have specifically been permitted to do so in a separate written agreement signed by an authorized representative of Newegg.com.  You specifically agree not to access or attempt to access the Website, or any portion thereof, through any automated means, including but not limited to the use of scripts or web crawlers.  You agree that you will not engage in any activity that disrupts or otherwise interferes with the Website (or the servers and networks which are connected to the Website).  You agree that you will not duplicate, reproduce, copy, sell, trade or resell the Website for any purpose.  You agree that you are solely responsible for any breach of your obligations under this Policy & Agreement and for the consequences (including any loss or damage which Newegg.com may suffer) of any such breach.</p></div>\\n</div>\\n\\n        </div>\\n    </div>\\n<script type=\"text/javascript\" src=\"//promotions.newegg.com/template/us/js/2021/footer-light.js\"></script>\\n</body>\\n\\n</html>'"
      ]
     },
     "execution_count": 5,
     "metadata": {},
     "output_type": "execute_result"
    }
   ],
   "source": [
    "html"
   ]
  },
  {
   "cell_type": "code",
   "execution_count": null,
   "id": "5bed7681",
   "metadata": {},
   "outputs": [],
   "source": []
  }
 ],
 "metadata": {
  "kernelspec": {
   "display_name": "Python 3 (ipykernel)",
   "language": "python",
   "name": "python3"
  },
  "language_info": {
   "codemirror_mode": {
    "name": "ipython",
    "version": 3
   },
   "file_extension": ".py",
   "mimetype": "text/x-python",
   "name": "python",
   "nbconvert_exporter": "python",
   "pygments_lexer": "ipython3",
   "version": "3.9.12"
  }
 },
 "nbformat": 4,
 "nbformat_minor": 5
}
