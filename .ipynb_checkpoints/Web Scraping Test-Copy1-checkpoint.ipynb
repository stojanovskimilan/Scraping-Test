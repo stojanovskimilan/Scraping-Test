{
 "cells": [
  {
   "cell_type": "markdown",
   "id": "2a909268",
   "metadata": {},
   "source": [
    "# Scraping Test\n",
    "## Importing Libraries"
   ]
  },
  {
   "cell_type": "code",
   "execution_count": 28,
   "id": "04b65e9b",
   "metadata": {},
   "outputs": [],
   "source": [
    "import requests\n",
    "import urllib\n",
    "import re\n",
    "from bs4 import BeautifulSoup\n",
    "import pandas as pd\n",
    "from collections import namedtuple\n",
    "import itertools\n",
    "from urllib.request import urlopen"
   ]
  },
  {
   "cell_type": "code",
   "execution_count": 29,
   "id": "cb299a84",
   "metadata": {},
   "outputs": [],
   "source": [
    "requests.packages.urllib3.disable_warnings()\n"
   ]
  },
  {
   "cell_type": "code",
   "execution_count": 30,
   "id": "f3a86bdc",
   "metadata": {},
   "outputs": [],
   "source": [
    "URLS = {'CPU':'https://www.newegg.com/p/pl?Submit=StoreIM&Category=34&PageSize=96',\n",
    "'LAPTOP': 'https://www.newegg.com/PCs/EventSaleStore/ID-1837?N=100017489&PageSize=96',\n",
    "'PC': 'https://www.newegg.com/p/pl?Submit=StoreIM&Category=228&PageSize=96',\n",
    "'GADGETS': 'https://www.newegg.com/p/pl?N=100006940&PageSize=96',\n",
    "'HEADPHONES': 'https://www.newegg.com/p/pl?Submit=StoreIM&Category=158&PageSize=96',\n",
    "'TV': 'https://www.newegg.com/p/pl?Submit=StoreIM&Category=59&PageSize=96',\n",
    "'MONITORS' : 'https://www.newegg.com/Gaming-Monitors/SubCategory/ID-3743?PageSize=96'}"
   ]
  },
  {
   "cell_type": "code",
   "execution_count": 40,
   "id": "9f0d0a7f",
   "metadata": {},
   "outputs": [],
   "source": [
    "def scrape_data(url):\n",
    "    html = requests.get(url).text\n",
    "    response = requests.get(url)\n",
    "    soup = BeautifulSoup(html,'html.parser')\n",
    "    \n",
    "    titles, prices, ratings_list, product_urls = ([] for i in range(4))\n",
    "    \n",
    "    for div in soup.find_all('div', {'class':'item-cell'}):\n",
    "        title = div.find('a', {'class':'item-title'})\n",
    "        titles.append(title.text)\n",
    "        price = div.find('ul', {'class': 'price'})\n",
    "        current_price = price.find('li', {'class':'price-current'})\n",
    "    \n",
    "        prices.append(current_price.text.split('(')[0])\n",
    "        ratings = div.find('a', {'class':'item-rating'})\n",
    "        if ratings is None:\n",
    "            ratings_list.append(ratings)\n",
    "        else:\n",
    "            ratings_list.append(ratings['title'].split(' ')[2])\n",
    "    \n",
    "        a = div.find('a', {'class': 'item-img'})\n",
    "        product_urls.append(a['href'])\n",
    "    return titles, prices, ratings_list, product_urls\n"
   ]
  },
  {
   "cell_type": "code",
   "execution_count": 32,
   "id": "20432f4e",
   "metadata": {},
   "outputs": [],
   "source": [
    "def get_sellers_and_descriptions(product_urls):\n",
    "    sellers = []\n",
    "    descriptions = []\n",
    "    for url in product_urls:\n",
    "        html = requests.get(url).text\n",
    "        soup = BeautifulSoup(html,'html.parser')\n",
    "        div = soup.find('div', {'class' : 'product-seller no-border-bottom'})\n",
    "        if div == None:\n",
    "            sellers.append(None)\n",
    "        else:\n",
    "            a = div.find('a')\n",
    "            sellers.append(a.text)\n",
    "        div1 = soup.find('div', {'class' : 'product-bullets'})\n",
    "        ul = div1.find('ul')\n",
    "        if ul is not None:\n",
    "            for e in ul:\n",
    "                descriptions.append(e.text)\n",
    "        else:\n",
    "            descriptions.append(None)\n",
    "            \n",
    "    return sellers,descriptions\n"
   ]
  },
  {
   "cell_type": "code",
   "execution_count": 41,
   "id": "d87f1e30",
   "metadata": {},
   "outputs": [],
   "source": [
    "titles, prices, ratings_list, product_urls = ([] for i in range(4))\n",
    "i = 0\n",
    "for url in URLS.values():\n",
    "    if i == 0:\n",
    "        titles, prices, ratings_list, product_urls = scrape_data(url)\n",
    "    else:\n",
    "        titles_1, prices_1, ratings_list_1, product_urls_1= scrape_data(url)\n",
    "        titles.extend(titles_1)\n",
    "        prices.extend(prices_1)\n",
    "        ratings_list.extend(ratings_list_1)\n",
    "        product_urls.extend(product_urls_1)\n",
    "        \n",
    "    i += 1\n",
    "        \n",
    "        "
   ]
  },
  {
   "cell_type": "code",
   "execution_count": 42,
   "id": "8b9ab44d",
   "metadata": {},
   "outputs": [
    {
     "data": {
      "text/plain": [
       "[]"
      ]
     },
     "execution_count": 42,
     "metadata": {},
     "output_type": "execute_result"
    }
   ],
   "source": [
    "titles"
   ]
  },
  {
   "cell_type": "code",
   "execution_count": 25,
   "id": "f0049570",
   "metadata": {},
   "outputs": [],
   "source": [
    "sellers,descriptions = get_sellers_and_descriptions(product_urls)"
   ]
  },
  {
   "cell_type": "code",
   "execution_count": 13,
   "id": "e6e8189c",
   "metadata": {},
   "outputs": [],
   "source": [
    "newegg_data = {\n",
    "    'Title' : titles,\n",
    "    'Price' : prices,\n",
    "    'Rating': ratings_list,\n",
    "    'Seller': sellers,\n",
    "    'Description':descriptions\n",
    "}"
   ]
  },
  {
   "cell_type": "code",
   "execution_count": 14,
   "id": "0ab13ebd",
   "metadata": {},
   "outputs": [],
   "source": [
    "data = pd.DataFrame(newegg_data)"
   ]
  },
  {
   "cell_type": "code",
   "execution_count": 15,
   "id": "468c8edd",
   "metadata": {},
   "outputs": [
    {
     "data": {
      "text/html": [
       "<div>\n",
       "<style scoped>\n",
       "    .dataframe tbody tr th:only-of-type {\n",
       "        vertical-align: middle;\n",
       "    }\n",
       "\n",
       "    .dataframe tbody tr th {\n",
       "        vertical-align: top;\n",
       "    }\n",
       "\n",
       "    .dataframe thead th {\n",
       "        text-align: right;\n",
       "    }\n",
       "</style>\n",
       "<table border=\"1\" class=\"dataframe\">\n",
       "  <thead>\n",
       "    <tr style=\"text-align: right;\">\n",
       "      <th></th>\n",
       "      <th>Title</th>\n",
       "      <th>Price</th>\n",
       "      <th>Rating</th>\n",
       "      <th>Seller</th>\n",
       "      <th>Description</th>\n",
       "    </tr>\n",
       "  </thead>\n",
       "  <tbody>\n",
       "  </tbody>\n",
       "</table>\n",
       "</div>"
      ],
      "text/plain": [
       "Empty DataFrame\n",
       "Columns: [Title, Price, Rating, Seller, Description]\n",
       "Index: []"
      ]
     },
     "execution_count": 15,
     "metadata": {},
     "output_type": "execute_result"
    }
   ],
   "source": [
    "data\n"
   ]
  },
  {
   "cell_type": "code",
   "execution_count": 12,
   "id": "fe6a0d45",
   "metadata": {},
   "outputs": [
    {
     "ename": "KeyError",
     "evalue": "150",
     "output_type": "error",
     "traceback": [
      "\u001b[1;31m---------------------------------------------------------------------------\u001b[0m",
      "\u001b[1;31mValueError\u001b[0m                                Traceback (most recent call last)",
      "File \u001b[1;32m~\\anaconda3\\lib\\site-packages\\pandas\\core\\indexes\\range.py:385\u001b[0m, in \u001b[0;36mRangeIndex.get_loc\u001b[1;34m(self, key, method, tolerance)\u001b[0m\n\u001b[0;32m    384\u001b[0m \u001b[38;5;28;01mtry\u001b[39;00m:\n\u001b[1;32m--> 385\u001b[0m     \u001b[38;5;28;01mreturn\u001b[39;00m \u001b[38;5;28;43mself\u001b[39;49m\u001b[38;5;241;43m.\u001b[39;49m\u001b[43m_range\u001b[49m\u001b[38;5;241;43m.\u001b[39;49m\u001b[43mindex\u001b[49m\u001b[43m(\u001b[49m\u001b[43mnew_key\u001b[49m\u001b[43m)\u001b[49m\n\u001b[0;32m    386\u001b[0m \u001b[38;5;28;01mexcept\u001b[39;00m \u001b[38;5;167;01mValueError\u001b[39;00m \u001b[38;5;28;01mas\u001b[39;00m err:\n",
      "\u001b[1;31mValueError\u001b[0m: 150 is not in range",
      "\nThe above exception was the direct cause of the following exception:\n",
      "\u001b[1;31mKeyError\u001b[0m                                  Traceback (most recent call last)",
      "Input \u001b[1;32mIn [12]\u001b[0m, in \u001b[0;36m<cell line: 1>\u001b[1;34m()\u001b[0m\n\u001b[1;32m----> 1\u001b[0m \u001b[43mdata\u001b[49m\u001b[43m[\u001b[49m\u001b[38;5;124;43m'\u001b[39;49m\u001b[38;5;124;43mTitle\u001b[39;49m\u001b[38;5;124;43m'\u001b[39;49m\u001b[43m]\u001b[49m\u001b[43m[\u001b[49m\u001b[38;5;241;43m150\u001b[39;49m\u001b[43m]\u001b[49m\n",
      "File \u001b[1;32m~\\anaconda3\\lib\\site-packages\\pandas\\core\\series.py:958\u001b[0m, in \u001b[0;36mSeries.__getitem__\u001b[1;34m(self, key)\u001b[0m\n\u001b[0;32m    955\u001b[0m     \u001b[38;5;28;01mreturn\u001b[39;00m \u001b[38;5;28mself\u001b[39m\u001b[38;5;241m.\u001b[39m_values[key]\n\u001b[0;32m    957\u001b[0m \u001b[38;5;28;01melif\u001b[39;00m key_is_scalar:\n\u001b[1;32m--> 958\u001b[0m     \u001b[38;5;28;01mreturn\u001b[39;00m \u001b[38;5;28;43mself\u001b[39;49m\u001b[38;5;241;43m.\u001b[39;49m\u001b[43m_get_value\u001b[49m\u001b[43m(\u001b[49m\u001b[43mkey\u001b[49m\u001b[43m)\u001b[49m\n\u001b[0;32m    960\u001b[0m \u001b[38;5;28;01mif\u001b[39;00m is_hashable(key):\n\u001b[0;32m    961\u001b[0m     \u001b[38;5;66;03m# Otherwise index.get_value will raise InvalidIndexError\u001b[39;00m\n\u001b[0;32m    962\u001b[0m     \u001b[38;5;28;01mtry\u001b[39;00m:\n\u001b[0;32m    963\u001b[0m         \u001b[38;5;66;03m# For labels that don't resolve as scalars like tuples and frozensets\u001b[39;00m\n",
      "File \u001b[1;32m~\\anaconda3\\lib\\site-packages\\pandas\\core\\series.py:1069\u001b[0m, in \u001b[0;36mSeries._get_value\u001b[1;34m(self, label, takeable)\u001b[0m\n\u001b[0;32m   1066\u001b[0m     \u001b[38;5;28;01mreturn\u001b[39;00m \u001b[38;5;28mself\u001b[39m\u001b[38;5;241m.\u001b[39m_values[label]\n\u001b[0;32m   1068\u001b[0m \u001b[38;5;66;03m# Similar to Index.get_value, but we do not fall back to positional\u001b[39;00m\n\u001b[1;32m-> 1069\u001b[0m loc \u001b[38;5;241m=\u001b[39m \u001b[38;5;28;43mself\u001b[39;49m\u001b[38;5;241;43m.\u001b[39;49m\u001b[43mindex\u001b[49m\u001b[38;5;241;43m.\u001b[39;49m\u001b[43mget_loc\u001b[49m\u001b[43m(\u001b[49m\u001b[43mlabel\u001b[49m\u001b[43m)\u001b[49m\n\u001b[0;32m   1070\u001b[0m \u001b[38;5;28;01mreturn\u001b[39;00m \u001b[38;5;28mself\u001b[39m\u001b[38;5;241m.\u001b[39mindex\u001b[38;5;241m.\u001b[39m_get_values_for_loc(\u001b[38;5;28mself\u001b[39m, loc, label)\n",
      "File \u001b[1;32m~\\anaconda3\\lib\\site-packages\\pandas\\core\\indexes\\range.py:387\u001b[0m, in \u001b[0;36mRangeIndex.get_loc\u001b[1;34m(self, key, method, tolerance)\u001b[0m\n\u001b[0;32m    385\u001b[0m         \u001b[38;5;28;01mreturn\u001b[39;00m \u001b[38;5;28mself\u001b[39m\u001b[38;5;241m.\u001b[39m_range\u001b[38;5;241m.\u001b[39mindex(new_key)\n\u001b[0;32m    386\u001b[0m     \u001b[38;5;28;01mexcept\u001b[39;00m \u001b[38;5;167;01mValueError\u001b[39;00m \u001b[38;5;28;01mas\u001b[39;00m err:\n\u001b[1;32m--> 387\u001b[0m         \u001b[38;5;28;01mraise\u001b[39;00m \u001b[38;5;167;01mKeyError\u001b[39;00m(key) \u001b[38;5;28;01mfrom\u001b[39;00m \u001b[38;5;21;01merr\u001b[39;00m\n\u001b[0;32m    388\u001b[0m \u001b[38;5;28mself\u001b[39m\u001b[38;5;241m.\u001b[39m_check_indexing_error(key)\n\u001b[0;32m    389\u001b[0m \u001b[38;5;28;01mraise\u001b[39;00m \u001b[38;5;167;01mKeyError\u001b[39;00m(key)\n",
      "\u001b[1;31mKeyError\u001b[0m: 150"
     ]
    }
   ],
   "source": [
    "data['Title'][150]"
   ]
  },
  {
   "cell_type": "code",
   "execution_count": null,
   "id": "96817c7f",
   "metadata": {},
   "outputs": [],
   "source": []
  }
 ],
 "metadata": {
  "kernelspec": {
   "display_name": "Python 3 (ipykernel)",
   "language": "python",
   "name": "python3"
  },
  "language_info": {
   "codemirror_mode": {
    "name": "ipython",
    "version": 3
   },
   "file_extension": ".py",
   "mimetype": "text/x-python",
   "name": "python",
   "nbconvert_exporter": "python",
   "pygments_lexer": "ipython3",
   "version": "3.9.12"
  }
 },
 "nbformat": 4,
 "nbformat_minor": 5
}
